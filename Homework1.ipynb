{
  "nbformat": 4,
  "nbformat_minor": 0,
  "metadata": {
    "colab": {
      "provenance": []
    },
    "kernelspec": {
      "name": "python3",
      "display_name": "Python 3"
    },
    "language_info": {
      "name": "python"
    }
  },
  "cells": [
    {
      "cell_type": "markdown",
      "source": [
        "# 🧠 Group Homework 1: Comparing Autoregressive Models\n",
        "\n",
        "**Course:** Probabilistic Machine Learning  \n",
        "**Group size:** Up to 3 students  \n",
        "**Submission deadline:** 8AM 9/22/2025  \n",
        "**Presentation:** One group will be randomly selected to present on **Monday** during the lecture 9/22/2025; the presentation order is also random within the group.\n",
        "\n",
        "---\n",
        "\n",
        "## 🔍 Objective\n",
        "\n",
        "Each group will:\n",
        "\n",
        "- Choose a dataset suitable for **autoregressive sequence modeling**\n",
        "- Implement and train **three models**, one from each of the following categories:\n",
        "\n",
        "| Category | Choose one model |\n",
        "|----------|------------------|\n",
        "| RNN-style | RNN, LSTM, or GRU |\n",
        "| Masked CNN | e.g., Causal CNN, WaveNet-style |\n",
        "| Transformer | Decoder-only Transformer with causal masking |\n",
        "\n",
        "Compare these models in terms of:\n",
        "- **Prediction performance**\n",
        "- **Training efficiency**\n",
        "\n",
        "---\n",
        "\n",
        "## ✅ Model Requirements\n",
        "\n",
        "You **must** implement one model from each of the following categories:\n",
        "\n",
        "1. **RNN-style:** choose exactly one from `{RNN, LSTM, GRU}`\n",
        "2. **Masked CNN:** must use **causal convolution** (i.e., no future leakage)\n",
        "3. **Transformer (decoder-only):** must use **masked multi-head attention**\n",
        "\n",
        "Each model should be implemented **from scratch in PyTorch**  You can use built-in PyTorch modules\n",
        "\n",
        "\n",
        "---\n",
        "\n",
        "## 📁 Dataset (You Choose)\n",
        "\n",
        "You are free to choose **any dataset** suitable for autoregressive modeling, such as:\n",
        "\n",
        "- Character-level or word-level language modeling\n",
        "- Time series forecasting\n",
        "- Music sequences\n",
        "- DNA or protein sequences\n",
        "- Speech/audio/text generation\n",
        "\n",
        "⚠️ Your notebook must include:\n",
        "- Dataset name & source (cite if downloaded)\n",
        "- Preprocessing steps\n",
        "- Train/val/test split procedure\n",
        "- Input/output sequence format\n",
        "\n",
        "📝 All 3 models must be trained on **the same dataset** and **the same prediction task**.\n",
        "\n",
        "---\n",
        "\n",
        "## 📦 Training Protocol\n",
        "\n",
        "To ensure fairness, all models must be trained with the **same training budget**:\n",
        "\n",
        "- Same **train/val/test split**\n",
        "- Same number of training **steps or epochs**\n",
        "- Same **optimizer** (e.g., Adam or AdamW)\n",
        "- Same **learning rate schedule**\n",
        "- Optional: dropout, gradient clipping, early stopping, etc.\n",
        "\n",
        "🎯 Try to match **model size** (parameter count) within **±10%** across the three models.\n",
        "\n",
        "---\n",
        "\n",
        "\n",
        "## 📊 What to Measure (per model)\n",
        "\n",
        "Your **colab must include** the following **for each model**:\n",
        "\n",
        "1. **Model architecture and parameter count**  \n",
        "   - Layers, hidden sizes, number of heads (for Transformer), etc.  \n",
        "   - Report total trainable parameters. Models should be within ±10% of each other.\n",
        "\n",
        "2. **Validation and test loss**  \n",
        "   - Log and report the final values.  \n",
        "\n",
        "3. **Training efficiency**  \n",
        "   -  Time to reach a target validation loss\n",
        "\n",
        "4. **Visualizations**  \n",
        "   - Training and validation loss curves  \n",
        "\n"
      ],
      "metadata": {
        "id": "RHroG3FkAvXj"
      }
    },
    {
      "cell_type": "markdown",
      "source": [
        "Group members:\n"
      ],
      "metadata": {
        "id": "ur7MwxpPBrde"
      }
    },
    {
      "cell_type": "markdown",
      "source": [
        "Dataset information:"
      ],
      "metadata": {
        "id": "pBLx9-eKBt8l"
      }
    },
    {
      "cell_type": "markdown",
      "source": [
        "Your first model:"
      ],
      "metadata": {
        "id": "MEhsDiRRBv69"
      }
    },
    {
      "cell_type": "markdown",
      "source": [
        "\n",
        "\n"
      ],
      "metadata": {
        "id": "OnAV1sQ_B5C3"
      }
    },
    {
      "cell_type": "code",
      "execution_count": null,
      "metadata": {
        "id": "cbwT5LnnAuva"
      },
      "outputs": [],
      "source": []
    },
    {
      "cell_type": "markdown",
      "source": [
        "Your second model:"
      ],
      "metadata": {
        "id": "V_NZ9hQyByye"
      }
    },
    {
      "cell_type": "code",
      "source": [],
      "metadata": {
        "id": "PKyFadJQB3pu"
      },
      "execution_count": null,
      "outputs": []
    },
    {
      "cell_type": "markdown",
      "source": [
        "Your third model:"
      ],
      "metadata": {
        "id": "4HlfI9agB0hq"
      }
    },
    {
      "cell_type": "code",
      "source": [],
      "metadata": {
        "id": "pg_n00Z2B3TV"
      },
      "execution_count": null,
      "outputs": []
    }
  ]
}